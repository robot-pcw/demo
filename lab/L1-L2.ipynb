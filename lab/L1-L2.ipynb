{
 "cells": [
  {
   "cell_type": "code",
   "execution_count": 1,
   "id": "19a27b27",
   "metadata": {},
   "outputs": [
    {
     "name": "stdout",
     "output_type": "stream",
     "text": [
      "(506, 13) [[6.3200e-03 1.8000e+01 2.3100e+00 0.0000e+00 5.3800e-01 6.5750e+00\n",
      "  6.5200e+01 4.0900e+00 1.0000e+00 2.9600e+02 1.5300e+01 3.9690e+02\n",
      "  4.9800e+00]\n",
      " [2.7310e-02 0.0000e+00 7.0700e+00 0.0000e+00 4.6900e-01 6.4210e+00\n",
      "  7.8900e+01 4.9671e+00 2.0000e+00 2.4200e+02 1.7800e+01 3.9690e+02\n",
      "  9.1400e+00]]\n",
      "(506,) [24.  21.6]\n"
     ]
    }
   ],
   "source": [
    "from sklearn.datasets import load_boston\n",
    "x, y = load_boston(return_X_y=True)\n",
    "print(x.shape, x[:2])\n",
    "print(y.shape, y[:2])"
   ]
  },
  {
   "cell_type": "markdown",
   "id": "3ce165c3",
   "metadata": {},
   "source": [
    "## x14 = 2 * x1"
   ]
  },
  {
   "cell_type": "code",
   "execution_count": 2,
   "id": "47fe2efb",
   "metadata": {},
   "outputs": [
    {
     "name": "stdout",
     "output_type": "stream",
     "text": [
      "(506, 14) [[6.3200e-03 1.8000e+01 2.3100e+00 0.0000e+00 5.3800e-01 6.5750e+00\n",
      "  6.5200e+01 4.0900e+00 1.0000e+00 2.9600e+02 1.5300e+01 3.9690e+02\n",
      "  4.9800e+00 1.2640e-02]\n",
      " [2.7310e-02 0.0000e+00 7.0700e+00 0.0000e+00 4.6900e-01 6.4210e+00\n",
      "  7.8900e+01 4.9671e+00 2.0000e+00 2.4200e+02 1.7800e+01 3.9690e+02\n",
      "  9.1400e+00 5.4620e-02]]\n"
     ]
    }
   ],
   "source": [
    "import numpy as np\n",
    "x1 = x[:, 0]\n",
    "x14 = 2 * x1\n",
    "x_ = np.hstack((x, x14[..., None]))  # 统一为二维\n",
    "print(x_.shape, x_[:2])"
   ]
  },
  {
   "cell_type": "code",
   "execution_count": 3,
   "id": "59aac9b3",
   "metadata": {},
   "outputs": [
    {
     "name": "stdout",
     "output_type": "stream",
     "text": [
      "[-2.16022716e-02  4.64204584e-02  2.05586264e-02  2.68673382e+00\n",
      " -1.77666112e+01  3.80986521e+00  6.92224640e-04 -1.47556685e+00\n",
      "  3.06049479e-01 -1.23345939e-02 -9.52747232e-01  9.31168327e-03\n",
      " -5.24758378e-01 -4.32045431e-02] 36.45948838508906\n"
     ]
    }
   ],
   "source": [
    "# LR\n",
    "from sklearn import linear_model\n",
    "lr = linear_model.LinearRegression()\n",
    "lr.fit(x_, y)\n",
    "print(lr.coef_, lr.intercept_)"
   ]
  },
  {
   "cell_type": "code",
   "execution_count": 4,
   "id": "8a1a78fd",
   "metadata": {},
   "outputs": [
    {
     "name": "stdout",
     "output_type": "stream",
     "text": [
      "[-2.11127352e-02  4.71342693e-02 -3.77240371e-04  2.59928439e+00\n",
      " -1.27898708e+01  3.84441949e+00 -3.68840341e-03 -1.40227150e+00\n",
      "  2.94578832e-01 -1.27387465e-02 -8.97911974e-01  9.56999132e-03\n",
      " -5.30624152e-01 -4.22254703e-02] 32.97084916863182\n"
     ]
    }
   ],
   "source": [
    "# Ridge/L2\n",
    "from sklearn import linear_model\n",
    "ridge = linear_model.Ridge(alpha=0.6)\n",
    "ridge.fit(x_, y)\n",
    "print(ridge.coef_, ridge.intercept_)"
   ]
  },
  {
   "cell_type": "code",
   "execution_count": 5,
   "id": "292c6f37",
   "metadata": {},
   "outputs": [
    {
     "name": "stdout",
     "output_type": "stream",
     "text": [
      "[-0.00000000e+00  4.98683680e-02 -1.60239906e-04  0.00000000e+00\n",
      " -0.00000000e+00  2.19054386e+00  6.92878767e-03 -8.82435175e-01\n",
      "  2.79894227e-01 -1.55508983e-02 -7.51865940e-01  9.16696004e-03\n",
      " -6.75919695e-01 -4.32025323e-02] 34.22165828639854\n"
     ]
    }
   ],
   "source": [
    "# Lasso/L1\n",
    "from sklearn import linear_model\n",
    "lasso = linear_model.Lasso(alpha=0.6)\n",
    "lasso.fit(x_, y)\n",
    "print(lasso.coef_, lasso.intercept_)"
   ]
  },
  {
   "cell_type": "markdown",
   "id": "d5d9bcd5",
   "metadata": {},
   "source": [
    "## x_14 = x2 + x3"
   ]
  },
  {
   "cell_type": "code",
   "execution_count": 6,
   "id": "1fb5dd81",
   "metadata": {},
   "outputs": [
    {
     "name": "stdout",
     "output_type": "stream",
     "text": [
      "(506, 14) [[6.3200e-03 1.8000e+01 2.3100e+00 0.0000e+00 5.3800e-01 6.5750e+00\n",
      "  6.5200e+01 4.0900e+00 1.0000e+00 2.9600e+02 1.5300e+01 3.9690e+02\n",
      "  4.9800e+00 2.0310e+01]\n",
      " [2.7310e-02 0.0000e+00 7.0700e+00 0.0000e+00 4.6900e-01 6.4210e+00\n",
      "  7.8900e+01 4.9671e+00 2.0000e+00 2.4200e+02 1.7800e+01 3.9690e+02\n",
      "  9.1400e+00 7.0700e+00]]\n"
     ]
    }
   ],
   "source": [
    "x2, x3 = x[:, 1], x[:, 2]  # 二者量级相近\n",
    "x_14 = x2 + x3\n",
    "x__ = np.hstack((x, x_14[..., None]))\n",
    "print(x__.shape, x__[:2])"
   ]
  },
  {
   "cell_type": "code",
   "execution_count": 7,
   "id": "4a904044",
   "metadata": {},
   "outputs": [
    {
     "name": "stdout",
     "output_type": "stream",
     "text": [
      "[-1.05736100e-01 -5.75861903e+11 -5.75861903e+11  2.68361744e+00\n",
      " -1.77991220e+01  3.80964298e+00  7.22129289e-04 -1.47550304e+00\n",
      "  3.05299732e-01 -1.21906729e-02 -9.52844541e-01  9.36416958e-03\n",
      " -5.24951060e-01  5.75861903e+11] 36.35897819911068\n"
     ]
    }
   ],
   "source": [
    "# LR\n",
    "from sklearn import linear_model\n",
    "lr1 = linear_model.LinearRegression()\n",
    "lr1.fit(x__, y)\n",
    "print(lr1.coef_, lr1.intercept_)"
   ]
  },
  {
   "cell_type": "code",
   "execution_count": 8,
   "id": "2fa13246",
   "metadata": {},
   "outputs": [
    {
     "name": "stdout",
     "output_type": "stream",
     "text": [
      "[-1.05561229e-01  3.15480224e-02 -1.59617481e-02  2.59928521e+00\n",
      " -1.27898766e+01  3.84442093e+00 -3.68840004e-03 -1.40226913e+00\n",
      "  2.94578028e-01 -1.27387902e-02 -8.97911948e-01  9.57001686e-03\n",
      " -5.30624841e-01  1.55862743e-02] 32.9708299155292\n"
     ]
    }
   ],
   "source": [
    "# Ridge/L2\n",
    "from sklearn import linear_model\n",
    "ridge1 = linear_model.Ridge(alpha=0.6)\n",
    "ridge1.fit(x__, y)\n",
    "print(ridge1.coef_, ridge1.intercept_)"
   ]
  },
  {
   "cell_type": "code",
   "execution_count": 9,
   "id": "c1c7f008",
   "metadata": {},
   "outputs": [
    {
     "name": "stdout",
     "output_type": "stream",
     "text": [
      "[-0.07917776  0.04958601 -0.          0.         -0.          2.19202074\n",
      "  0.00698976 -0.87876905  0.2759448  -0.01552117 -0.75189932  0.00923377\n",
      " -0.67758937  0.        ] 34.193083509632984\n"
     ]
    }
   ],
   "source": [
    "# Lasso/L1\n",
    "from sklearn import linear_model\n",
    "lasso1 = linear_model.Lasso(alpha=0.6)\n",
    "lasso1.fit(x__, y)\n",
    "print(lasso1.coef_, lasso1.intercept_)"
   ]
  },
  {
   "cell_type": "code",
   "execution_count": null,
   "id": "5694d8be",
   "metadata": {},
   "outputs": [],
   "source": []
  }
 ],
 "metadata": {
  "kernelspec": {
   "display_name": "Python 3",
   "language": "python",
   "name": "python3"
  },
  "language_info": {
   "codemirror_mode": {
    "name": "ipython",
    "version": 3
   },
   "file_extension": ".py",
   "mimetype": "text/x-python",
   "name": "python",
   "nbconvert_exporter": "python",
   "pygments_lexer": "ipython3",
   "version": "3.8.8"
  }
 },
 "nbformat": 4,
 "nbformat_minor": 5
}
