{
 "cells": [
  {
   "cell_type": "code",
   "execution_count": null,
   "metadata": {},
   "outputs": [],
   "source": [
    "\"\"\"\n",
    "机器学习问题中，输入向量x分布在特征空间V中，判别类模型通过 y' = f(x)将输入映射到目标输出空间。\n",
    "\"\"\"\n",
    "import numpy as np\n",
    "import matplotlib.pyplot as plot"
   ]
  },
  {
   "cell_type": "code",
   "execution_count": null,
   "metadata": {},
   "outputs": [],
   "source": [
    "\"\"\"\n",
    "以二分类问题为例：\n",
    "我们将模型f(x)看作势函数，将输入点x = (x1, x2)放置在二维坐标系中，并使用势值对输入空间进行标注。\n",
    "对于一般的线性分类模型，其分类的依据就是 f(x)=wx+b=0 对应的决策面——在特征空间中对应于一个等势面。\n",
    "\"\"\"\n"
   ]
  }
 ],
 "metadata": {
  "kernelspec": {
   "display_name": "Python 3",
   "language": "python",
   "name": "python3"
  },
  "language_info": {
   "codemirror_mode": {
    "name": "ipython",
    "version": 3
   },
   "file_extension": ".py",
   "mimetype": "text/x-python",
   "name": "python",
   "nbconvert_exporter": "python",
   "pygments_lexer": "ipython3",
   "version": "3.7.5"
  }
 },
 "nbformat": 4,
 "nbformat_minor": 4
}
